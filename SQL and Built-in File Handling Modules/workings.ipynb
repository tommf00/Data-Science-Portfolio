{
 "cells": [
  {
   "cell_type": "code",
   "execution_count": 2,
   "metadata": {},
   "outputs": [
    {
     "name": "stdout",
     "output_type": "stream",
     "text": [
      "['Hi, this is your text file!']\n"
     ]
    }
   ],
   "source": [
    "file=open(file='text_file.txt',mode='r')\n",
    "text= file.readlines()\n",
    "print(text)"
   ]
  },
  {
   "cell_type": "code",
   "execution_count": 4,
   "metadata": {},
   "outputs": [],
   "source": [
    "with open(file='text_file.txt',mode='w') as f:\n",
    "    f.write('. Additional text added.')"
   ]
  },
  {
   "cell_type": "code",
   "execution_count": 8,
   "metadata": {},
   "outputs": [
    {
     "name": "stdout",
     "output_type": "stream",
     "text": [
      "{\"books\": 12, \"articles\": 200, \"subjects\": [\"maths\", \"programming\", \"data science\"]} <class 'str'>\n"
     ]
    }
   ],
   "source": [
    "import json\n",
    "data_dict={'books':12,\n",
    "           'articles':200,\n",
    "           'subjects':['maths',\n",
    "                       'programming',\n",
    "                       'data science']}\n",
    "json_str=json.dumps(data_dict)\n",
    "print(json_str,type(json_str))"
   ]
  },
  {
   "cell_type": "code",
   "execution_count": 9,
   "metadata": {},
   "outputs": [
    {
     "name": "stdout",
     "output_type": "stream",
     "text": [
      "{'books': 12, 'articles': 200, 'subjects': ['maths', 'programming', 'data science']} <class 'dict'>\n"
     ]
    }
   ],
   "source": [
    "data_dict_loaded=json.loads(json_str)\n",
    "print(data_dict_loaded,type(data_dict_loaded))"
   ]
  },
  {
   "cell_type": "code",
   "execution_count": 10,
   "metadata": {},
   "outputs": [],
   "source": [
    "with open(file='text_file.txt',mode='w') as f:\n",
    "    json.dump(data_dict,f)"
   ]
  },
  {
   "cell_type": "code",
   "execution_count": 15,
   "metadata": {},
   "outputs": [],
   "source": [
    "import sqlite3\n",
    "conn=sqlite3.connect(r'C:\\Users\\tmara\\Documents\\Data Science Portfolio\\Book\\Practical-Data-Science-with-Python-main\\3-Chapter-3\\chinook.db')\n",
    "cursor=conn.cursor()"
   ]
  },
  {
   "cell_type": "code",
   "execution_count": 17,
   "metadata": {},
   "outputs": [
    {
     "data": {
      "text/plain": [
       "[(1, 'AC/DC'),\n",
       " (2, 'Accept'),\n",
       " (3, 'Aerosmith'),\n",
       " (4, 'Alanis Morissette'),\n",
       " (5, 'Alice In Chains')]"
      ]
     },
     "execution_count": 17,
     "metadata": {},
     "output_type": "execute_result"
    }
   ],
   "source": [
    "cursor.execute('SELECT * FROM artists LIMIT 5;')\n",
    "cursor.fetchall()"
   ]
  },
  {
   "cell_type": "code",
   "execution_count": 38,
   "metadata": {},
   "outputs": [
    {
     "data": {
      "text/plain": [
       "[('USA', 91),\n",
       " ('Canada', 56),\n",
       " ('France', 35),\n",
       " ('Brazil', 35),\n",
       " ('Germany', 28),\n",
       " ('United Kingdom', 21),\n",
       " ('Portugal', 14),\n",
       " ('Czech Republic', 14),\n",
       " ('India', 13),\n",
       " ('Sweden', 7)]"
      ]
     },
     "execution_count": 38,
     "metadata": {},
     "output_type": "execute_result"
    }
   ],
   "source": [
    "query=\"\"\"\n",
    "SELECT BillingCountry , COUNT(Total)\n",
    "FROM invoices\n",
    "GROUP BY BillingCountry\n",
    "ORDER BY COUNT(Total) DESC\n",
    "LIMIT 10;\n",
    "\n",
    "\"\"\"\n",
    "cursor.execute(query)\n",
    "cursor.fetchall()"
   ]
  },
  {
   "cell_type": "code",
   "execution_count": 40,
   "metadata": {},
   "outputs": [
    {
     "data": {
      "text/plain": [
       "[('Germany', 2),\n",
       " ('Germany', 4),\n",
       " ('Norway', 6),\n",
       " ('Norway', 8),\n",
       " ('Norway', 10),\n",
       " ('Norway', 12),\n",
       " ('Belgium', 16),\n",
       " ('Belgium', 20),\n",
       " ('Belgium', 24),\n",
       " ('Belgium', 28)]"
      ]
     },
     "execution_count": 40,
     "metadata": {},
     "output_type": "execute_result"
    }
   ],
   "source": [
    "query=\"\"\"\n",
    "SELECT invoices.BillingCountry , invoice_items.TrackId\n",
    "FROM invoices\n",
    "JOIN invoice_items\n",
    "ON invoices.InvoiceId= invoice_items.InvoiceId\n",
    "LIMIT 10;\n",
    "\n",
    "\"\"\"\n",
    "cursor.execute(query)\n",
    "cursor.fetchall()"
   ]
  },
  {
   "cell_type": "code",
   "execution_count": 42,
   "metadata": {},
   "outputs": [
    {
     "data": {
      "text/plain": [
       "[(0, 'InvoiceId', 'INTEGER', 1, None, 1),\n",
       " (1, 'CustomerId', 'INTEGER', 1, None, 0),\n",
       " (2, 'InvoiceDate', 'DATETIME', 1, None, 0),\n",
       " (3, 'BillingAddress', 'NVARCHAR(70)', 0, None, 0),\n",
       " (4, 'BillingCity', 'NVARCHAR(40)', 0, None, 0),\n",
       " (5, 'BillingState', 'NVARCHAR(40)', 0, None, 0),\n",
       " (6, 'BillingCountry', 'NVARCHAR(40)', 0, None, 0),\n",
       " (7, 'BillingPostalCode', 'NVARCHAR(10)', 0, None, 0),\n",
       " (8, 'Total', 'NUMERIC(10,2)', 1, None, 0)]"
      ]
     },
     "execution_count": 42,
     "metadata": {},
     "output_type": "execute_result"
    }
   ],
   "source": [
    "cursor.execute('PRAGMA table_info(invoices);')\n",
    "cursor.fetchall()"
   ]
  },
  {
   "cell_type": "code",
   "execution_count": 48,
   "metadata": {},
   "outputs": [
    {
     "data": {
      "text/plain": [
       "[('Your Time Has Come', 99, 494, 'USA'),\n",
       " ('Right Through You', 42, 304, 'Canada'),\n",
       " ('Morena De Angola', 234, 190, 'France'),\n",
       " ('Admirável Gado Novo', 738, 190, 'Brazil'),\n",
       " ('Balls to the Wall', 2, 152, 'Germany'),\n",
       " ('Samba Makossa', 274, 114, 'United Kingdom'),\n",
       " ('Helpless', 927, 76, 'Portugal'),\n",
       " ('When You Gonna Learn (Digeridoo)', 1434, 76, 'Czech Republic'),\n",
       " ('Cotton Fields', 702, 74, 'India'),\n",
       " ('Invaders', 1391, 38, 'Sweden')]"
      ]
     },
     "execution_count": 48,
     "metadata": {},
     "output_type": "execute_result"
    }
   ],
   "source": [
    "query=\"\"\"\n",
    "SELECT\n",
    "    tracks.Name,\n",
    "    invoice_items.TrackId,\n",
    "    COUNT(invoice_items.TrackId),\n",
    "    invoices.BillingCountry\n",
    "FROM invoices\n",
    "JOIN invoice_items\n",
    "ON invoices.InvoiceId= invoice_items.InvoiceId\n",
    "JOIN tracks\n",
    "ON tracks.TrackId= invoice_items.TrackId\n",
    "GROUP BY invoices.BillingCountry\n",
    "ORDER BY COUNT(invoice_items.TrackId) DESC\n",
    "LIMIT 10;\n",
    "\n",
    "\"\"\"\n",
    "cursor.execute(query)\n",
    "cursor.fetchall()"
   ]
  },
  {
   "cell_type": "code",
   "execution_count": 49,
   "metadata": {},
   "outputs": [],
   "source": [
    "conn.close()"
   ]
  },
  {
   "cell_type": "code",
   "execution_count": null,
   "metadata": {},
   "outputs": [],
   "source": []
  }
 ],
 "metadata": {
  "kernelspec": {
   "display_name": "base",
   "language": "python",
   "name": "python3"
  },
  "language_info": {
   "codemirror_mode": {
    "name": "ipython",
    "version": 3
   },
   "file_extension": ".py",
   "mimetype": "text/x-python",
   "name": "python",
   "nbconvert_exporter": "python",
   "pygments_lexer": "ipython3",
   "version": "3.11.5"
  }
 },
 "nbformat": 4,
 "nbformat_minor": 2
}
