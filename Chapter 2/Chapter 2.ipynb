{
 "cells": [
  {
   "cell_type": "code",
   "execution_count": 7,
   "id": "13e0d505",
   "metadata": {},
   "outputs": [],
   "source": [
    "import time as t\n",
    "from urllib.request import urlopen,pathname2url"
   ]
  },
  {
   "cell_type": "code",
   "execution_count": 8,
   "id": "c8b7336b",
   "metadata": {},
   "outputs": [
    {
     "name": "stdout",
     "output_type": "stream",
     "text": [
      "hello\n",
      "1696978775.3950958\n"
     ]
    },
    {
     "data": {
      "text/plain": [
       "<http.client.HTTPResponse at 0x21c5f45c700>"
      ]
     },
     "execution_count": 8,
     "metadata": {},
     "output_type": "execute_result"
    }
   ],
   "source": [
    "print('hello')\n",
    "print(t.time())\n",
    "urlopen('https://www.pypi.org')"
   ]
  },
  {
   "cell_type": "code",
   "execution_count": 11,
   "id": "ad125f06",
   "metadata": {},
   "outputs": [],
   "source": [
    "def test_function(doPrint,printAdd='more'):\n",
    "    \"\"\"\n",
    "    A demo function.\n",
    "    \"\"\"\n",
    "    func_var='testing'\n",
    "    if doPrint:\n",
    "        print('test'+printAdd+func_var)\n",
    "        return printAdd"
   ]
  },
  {
   "cell_type": "code",
   "execution_count": 12,
   "id": "5e0b60c0",
   "metadata": {},
   "outputs": [
    {
     "name": "stdout",
     "output_type": "stream",
     "text": [
      "testmoretesting\n"
     ]
    },
    {
     "data": {
      "text/plain": [
       "'more'"
      ]
     },
     "execution_count": 12,
     "metadata": {},
     "output_type": "execute_result"
    }
   ],
   "source": [
    "test_function(doPrint=True)"
   ]
  },
  {
   "cell_type": "code",
   "execution_count": 13,
   "id": "82e9d45e",
   "metadata": {},
   "outputs": [],
   "source": [
    "add10=lambda x,y:x+y+10"
   ]
  },
  {
   "cell_type": "code",
   "execution_count": 14,
   "id": "57959157",
   "metadata": {},
   "outputs": [
    {
     "data": {
      "text/plain": [
       "23"
      ]
     },
     "execution_count": 14,
     "metadata": {},
     "output_type": "execute_result"
    }
   ],
   "source": [
    "add10(10,3)"
   ]
  },
  {
   "cell_type": "code",
   "execution_count": 32,
   "id": "7ed33020",
   "metadata": {},
   "outputs": [],
   "source": [
    "class testObject:\n",
    "    def __init__(self,attr=10):\n",
    "        self.test_attribute=attr\n",
    "    def test_function(self):\n",
    "        print('testing123')\n",
    "        print(self.test_attribute)"
   ]
  },
  {
   "cell_type": "code",
   "execution_count": 36,
   "id": "91443b43",
   "metadata": {},
   "outputs": [],
   "source": [
    "t_o=testObject(123)"
   ]
  },
  {
   "cell_type": "code",
   "execution_count": 42,
   "id": "8ac9b877",
   "metadata": {},
   "outputs": [],
   "source": [
    "t_o.test_attribute=123"
   ]
  },
  {
   "cell_type": "code",
   "execution_count": 43,
   "id": "cf0bc123",
   "metadata": {},
   "outputs": [
    {
     "name": "stdout",
     "output_type": "stream",
     "text": [
      "testing123\n",
      "123\n"
     ]
    }
   ],
   "source": [
    "t_o.test_function()"
   ]
  },
  {
   "cell_type": "code",
   "execution_count": null,
   "id": "fac8c63d",
   "metadata": {},
   "outputs": [],
   "source": []
  }
 ],
 "metadata": {
  "kernelspec": {
   "display_name": "Python 3 (ipykernel)",
   "language": "python",
   "name": "python3"
  },
  "language_info": {
   "codemirror_mode": {
    "name": "ipython",
    "version": 3
   },
   "file_extension": ".py",
   "mimetype": "text/x-python",
   "name": "python",
   "nbconvert_exporter": "python",
   "pygments_lexer": "ipython3",
   "version": "3.11.5"
  }
 },
 "nbformat": 4,
 "nbformat_minor": 5
}
