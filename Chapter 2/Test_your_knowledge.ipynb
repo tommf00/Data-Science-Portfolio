{
 "cells": [
  {
   "cell_type": "markdown",
   "metadata": {},
   "source": [
    "This notebook will help you practice some of the skills and concepts you learned in chapter 2 of the book:\n",
    "- Strings, Numbers\n",
    "- Variables\n",
    "- Lists, Sets, Dictionaries\n",
    "- Loops and list comprehensions\n",
    "- Control Flow\n",
    "- Functions\n",
    "- Classes\n",
    "- Packages/Modules\n",
    "- Debugging an error\n",
    "- Using documentation"
   ]
  },
  {
   "cell_type": "markdown",
   "metadata": {},
   "source": [
    "Here we have some data on the number of books read by different people who work at Bob's Book Emporium. Create Python code that loops through each of the people and prints out how many books they have read. If someone has read 0 books, print out \"___ has not read any books!\" instead of the number of books."
   ]
  },
  {
   "cell_type": "code",
   "execution_count": 2,
   "metadata": {},
   "outputs": [],
   "source": [
    "people = ['Krishnang', 'Steve', 'Jimmy', 'Mary', 'Divya', 'Robert', 'Yulia']\n",
    "books_read = [12, 6, 0, 7, 4, 10, 15]"
   ]
  },
  {
   "cell_type": "markdown",
   "metadata": {},
   "source": [
    "There are several ways to solve this -- you could look at the `zip()` function, use `enumerate()`, use `range` and `len`, or use other methods. To print the names and values, you can use string concatenation (+), f-string formatting, or other methods."
   ]
  },
  {
   "cell_type": "code",
   "execution_count": 3,
   "metadata": {},
   "outputs": [
    {
     "name": "stdout",
     "output_type": "stream",
     "text": [
      "Krishnang has read  12 books\n",
      "Steve has read  6 books\n",
      "Jimmy has not read any books!\n",
      "Mary has read  7 books\n",
      "Divya has read  4 books\n",
      "Robert has read  10 books\n",
      "Yulia has read  15 books\n"
     ]
    }
   ],
   "source": [
    "# your code here\n",
    "for i,j in zip(people,books_read):\n",
    "    if j==0:\n",
    "        print(i+' has not read any books!')\n",
    "    else:\n",
    "        print(i +' has read ',j,'books')"
   ]
  },
  {
   "cell_type": "markdown",
   "metadata": {},
   "source": [
    "Turn the loop we just created into a function that takes the two lists (books read and people) as arguments. Be sure to try out your function to make sure it works."
   ]
  },
  {
   "cell_type": "code",
   "execution_count": 4,
   "metadata": {},
   "outputs": [
    {
     "name": "stdout",
     "output_type": "stream",
     "text": [
      "Krishnang has read  12 books\n",
      "Steve has read  6 books\n",
      "Jimmy has not read any books!\n",
      "Mary has read  7 books\n",
      "Divya has read  4 books\n",
      "Robert has read  10 books\n",
      "Yulia has read  15 books\n"
     ]
    }
   ],
   "source": [
    "# your code here\n",
    "def reading_check(books_read,people):\n",
    "    for i,j in zip(people,books_read):\n",
    "        if j==0:\n",
    "            print(i+' has not read any books!')\n",
    "        else:\n",
    "            print(i +' has read ',j,'books')\n",
    "reading_check(books_read,people)"
   ]
  },
  {
   "cell_type": "markdown",
   "metadata": {},
   "source": [
    "Challenge: Sort the values of `books_read` from greatest to least and print the top three people with the number of books  they have read. This is a tougher problem. Some possible ways to solve it include using NumPy's argsort, creating a dictionary, and creating tuples."
   ]
  },
  {
   "cell_type": "code",
   "execution_count": 29,
   "metadata": {},
   "outputs": [
    {
     "data": {
      "text/plain": [
       "[(15, 'Yulia'),\n",
       " (12, 'Krishnang'),\n",
       " (10, 'Robert'),\n",
       " (7, 'Mary'),\n",
       " (6, 'Steve'),\n",
       " (4, 'Divya'),\n",
       " (0, 'Jimmy')]"
      ]
     },
     "execution_count": 29,
     "metadata": {},
     "output_type": "execute_result"
    }
   ],
   "source": [
    "# your code here\n",
    "import numpy as np\n",
    "\n",
    "read_tupple=[(b,p) for p,b in zip(people,books_read)]\n",
    "sorted(read_tupple,reverse=True)\n",
    "\n"
   ]
  },
  {
   "cell_type": "markdown",
   "metadata": {},
   "source": [
    "Bob's books gets a discount for every multiple of 3 books their employees buy and read. Find out how many multiples of 3 books they have read, and how many more books need to be read to get to the next multiple of 3. Python has a built-in `sum` function that may be useful here, and don't forget about the modulo operator."
   ]
  },
  {
   "cell_type": "code",
   "execution_count": 46,
   "metadata": {},
   "outputs": [
    {
     "name": "stdout",
     "output_type": "stream",
     "text": [
      "Krishnang has read 12 books, 4 discounts available and needs 3 to get another discount\n",
      "Steve has read 6 books, 2 discounts available and needs 3 to get another discount\n",
      "Jimmy has read 0 books, 0 discounts available and needs 3 to get another discount\n",
      "Mary has read 7 books, 2 discounts available and needs 2 to get another discount\n",
      "Divya has read 4 books, 1 discounts available and needs 2 to get another discount\n",
      "Robert has read 10 books, 3 discounts available and needs 2 to get another discount\n",
      "Yulia has read 15 books, 5 discounts available and needs 3 to get another discount\n"
     ]
    }
   ],
   "source": [
    "# your code here\n",
    "total_books=sum(books_read)\n",
    "for p,b in zip(people,books_read):\n",
    "    discounts=b//3\n",
    "    remainder=3-(b%3)\n",
    "    print(p,'has read',b,'books,',discounts,'discounts available and needs',remainder,'to get another discount')"
   ]
  },
  {
   "cell_type": "markdown",
   "metadata": {},
   "source": [
    "Create a dictionary for the data where the keys are people's names and the values are the number of books. An advanced way to do this would be with a dictionary comprehension, but you can also use a loop."
   ]
  },
  {
   "cell_type": "code",
   "execution_count": 53,
   "metadata": {},
   "outputs": [
    {
     "name": "stdout",
     "output_type": "stream",
     "text": [
      "{'Krishnang': 12, 'Steve': 6, 'Jimmy': 0, 'Mary': 7, 'Divya': 4, 'Robert': 10, 'Yulia': 15}\n",
      "sorted [('Yulia', 15), ('Krishnang', 12), ('Robert', 10), ('Mary', 7), ('Steve', 6), ('Divya', 4), ('Jimmy', 0)]\n"
     ]
    }
   ],
   "source": [
    "# your code here\n",
    "people_dict={p:b for p,b in zip(people,books_read)}\n",
    "print(people_dict)\n",
    "print('sorted',sorted(people_dict.items(),key=lambda x:x[1],reverse=True))"
   ]
  },
  {
   "cell_type": "markdown",
   "metadata": {},
   "source": [
    "Challenge: Use the dictionary to print out the top 3 people with the most books read. This is where Stack Overflow and searching the web might come in handy -- try searching 'sort dictionary by value in Python'."
   ]
  },
  {
   "cell_type": "code",
   "execution_count": 54,
   "metadata": {},
   "outputs": [
    {
     "data": {
      "text/plain": [
       "[('Yulia', 15), ('Krishnang', 12), ('Robert', 10)]"
      ]
     },
     "execution_count": 54,
     "metadata": {},
     "output_type": "execute_result"
    }
   ],
   "source": [
    "# your code here\n",
    "sorted(people_dict.items(),key=lambda x:x[1],reverse=True)[:3]"
   ]
  },
  {
   "cell_type": "markdown",
   "metadata": {},
   "source": [
    "Using sets, ensure there are no duplicate names in our data. (Yes, this is trivial since our data is small and we can manually inspect it, but if we had thousands of names, we could use the same method as we do here.)"
   ]
  },
  {
   "cell_type": "code",
   "execution_count": 59,
   "metadata": {},
   "outputs": [
    {
     "data": {
      "text/plain": [
       "set()"
      ]
     },
     "execution_count": 59,
     "metadata": {},
     "output_type": "execute_result"
    }
   ],
   "source": [
    "# your code here\n",
    "set(people).difference(set(people))"
   ]
  },
  {
   "cell_type": "markdown",
   "metadata": {},
   "source": [
    "Create a class for storing the books read and people's names. The class should also include a function for printing out the top three book readers. Test out your class to make sure it works."
   ]
  },
  {
   "cell_type": "code",
   "execution_count": 69,
   "metadata": {},
   "outputs": [
    {
     "name": "stdout",
     "output_type": "stream",
     "text": [
      "This is the top 3 book readers:\n",
      "\n",
      "Yulia with 15 books\n",
      "\n",
      "Krishnang with 12 books\n",
      "\n",
      "Robert with 10 books\n",
      "\n"
     ]
    }
   ],
   "source": [
    "# your code here\n",
    "class storingBooks:\n",
    "    def __init__(self,books_read,people):\n",
    "        self.books=books_read\n",
    "        self.people=people\n",
    "    def print_top_three(self):\n",
    "        top_three_tupp=[(b,p) for b,p in zip(self.books,self.people)]\n",
    "        print('This is the top 3 book readers:\\n')\n",
    "        for b,p in sorted(top_three_tupp,reverse=True)[:3]:\n",
    "            print(f'{p} with {b} books\\n')\n",
    "br=storingBooks(books_read,people)\n",
    "br.print_top_three()"
   ]
  },
  {
   "cell_type": "markdown",
   "metadata": {},
   "source": [
    "Use the time module to see how long it takes to make a new class and print out the top three readers."
   ]
  },
  {
   "cell_type": "code",
   "execution_count": 70,
   "metadata": {},
   "outputs": [
    {
     "name": "stdout",
     "output_type": "stream",
     "text": [
      "This is the top 3 book readers:\n",
      "\n",
      "Yulia with 15 books\n",
      "\n",
      "Krishnang with 12 books\n",
      "\n",
      "Robert with 10 books\n",
      "\n",
      "\n",
      "\n",
      "time to run in seconds: 0.0\n"
     ]
    }
   ],
   "source": [
    "# your code here\n",
    "import time\n",
    "start = time.time()\n",
    "br = storingBooks(books_read, people)\n",
    "br.print_top_three()\n",
    "\n",
    "print('\\n')\n",
    "print(f'time to run in seconds: {time.time() - start}')"
   ]
  },
  {
   "cell_type": "markdown",
   "metadata": {},
   "source": [
    "Another way to do this is with the %%timeit magic command:"
   ]
  },
  {
   "cell_type": "markdown",
   "metadata": {},
   "source": [
    "The code below is throwing a few errors. Debug and correct the error so the code runs."
   ]
  },
  {
   "cell_type": "code",
   "execution_count": 75,
   "metadata": {},
   "outputs": [
    {
     "name": "stdout",
     "output_type": "stream",
     "text": [
      "Steve  has only read  6  books\n"
     ]
    }
   ],
   "source": [
    "for b, p in zip(books_read[:3], people[:3]):\n",
    "    if b > 0 and b < 10:\n",
    "        print(p,' has only read ',b ,' books')"
   ]
  },
  {
   "cell_type": "markdown",
   "metadata": {},
   "source": [
    "Use the documentation (https://docs.python.org/3/library/stdtypes.html#string-methods) to understand how the functions `rjust` and `ljust` work, then modify the loop below so the output looks something like:\n",
    "\n",
    "```\n",
    "Krishnang------12 books\n",
    "Steve---------- 6 books\n",
    "Jimmy---------- 0 books\n",
    "Mary----------- 7 books\n",
    "Divya---------- 4 books\n",
    "Robert---------10 books\n",
    "Yulia----------15 books\n",
    "```"
   ]
  },
  {
   "cell_type": "code",
   "execution_count": 83,
   "metadata": {},
   "outputs": [
    {
     "name": "stdout",
     "output_type": "stream",
     "text": [
      "Krishnang------12 books\n",
      "Steve---------- 6 books\n",
      "Jimmy---------- 0 books\n",
      "Mary----------- 7 books\n",
      "Divya---------- 4 books\n",
      "Robert---------10 books\n",
      "Yulia----------15 books\n"
     ]
    }
   ],
   "source": [
    "for b, p in zip(books_read, people):\n",
    "    print(f'{p.ljust(15,\"-\")}{str(b).rjust(2)} books')"
   ]
  },
  {
   "cell_type": "code",
   "execution_count": null,
   "metadata": {},
   "outputs": [],
   "source": []
  }
 ],
 "metadata": {
  "kernelspec": {
   "display_name": "Python 3",
   "language": "python",
   "name": "python3"
  },
  "language_info": {
   "codemirror_mode": {
    "name": "ipython",
    "version": 3
   },
   "file_extension": ".py",
   "mimetype": "text/x-python",
   "name": "python",
   "nbconvert_exporter": "python",
   "pygments_lexer": "ipython3",
   "version": "3.11.5"
  }
 },
 "nbformat": 4,
 "nbformat_minor": 4
}
