{
 "cells": [
  {
   "cell_type": "markdown",
   "metadata": {},
   "source": [
    "# Sentiment Analysis for Movie Ratings in IMDB\n",
    "This project outlines different methodologies to analyse the sentiment analysis for movies in the movie rating platform IMBD. Different models and methods will be used in this project to analyse the reviews from the users."
   ]
  },
  {
   "cell_type": "markdown",
   "metadata": {},
   "source": [
    "## Description:\n",
    "The dataset is comprised of tab-separated files with phrases from the Rotten Tomatoes dataset. The train/test split has been preserved for the purposes of benchmarking, but the sentences have been shuffled from their original order. Each Sentence has been parsed into many phrases by the Stanford parser. Each phrase has a PhraseId. Each sentence has a SentenceId. Phrases that are repeated (such as short/common words) are only included once in the data.\n",
    "\n",
    "train.tsv contains the phrases and their associated sentiment labels. We have additionally provided a SentenceId so that you can track which phrases belong to a single sentence.\n",
    "test.tsv contains just phrases. You must assign a sentiment label to each phrase.\n",
    "The sentiment labels are:\n",
    "\n",
    "0 - negative\n",
    "1 - somewhat negative\n",
    "2 - neutral\n",
    "3 - somewhat positive\n",
    "4 - positive\n",
    "\n",
    "The dataset can be downloaded here: https://archive.ics.uci.edu/ml/datasets/spambase"
   ]
  },
  {
   "cell_type": "code",
   "execution_count": 47,
   "metadata": {},
   "outputs": [
    {
     "name": "stderr",
     "output_type": "stream",
     "text": [
      "[nltk_data] Downloading package punkt to\n",
      "[nltk_data]     C:\\Users\\tmara\\AppData\\Roaming\\nltk_data...\n",
      "[nltk_data]   Package punkt is already up-to-date!\n",
      "[nltk_data] Downloading package averaged_perceptron_tagger to\n",
      "[nltk_data]     C:\\Users\\tmara\\AppData\\Roaming\\nltk_data...\n",
      "[nltk_data]   Package averaged_perceptron_tagger is already up-to-\n",
      "[nltk_data]       date!\n",
      "[nltk_data] Downloading package maxent_ne_chunker to\n",
      "[nltk_data]     C:\\Users\\tmara\\AppData\\Roaming\\nltk_data...\n",
      "[nltk_data]   Package maxent_ne_chunker is already up-to-date!\n",
      "[nltk_data] Downloading package words to\n",
      "[nltk_data]     C:\\Users\\tmara\\AppData\\Roaming\\nltk_data...\n",
      "[nltk_data]   Package words is already up-to-date!\n"
     ]
    }
   ],
   "source": [
    "import pandas as pd\n",
    "import numpy as np\n",
    "import matplotlib.pylab as plt\n",
    "import seaborn as sns\n",
    "import nltk\n",
    "nltk.download('punkt')\n",
    "nltk.download('averaged_perceptron_tagger')\n",
    "nltk.download('maxent_ne_chunker')\n",
    "nltk.download('words')\n",
    "plt.style.use('ggplot')\n",
    "\n",
    "df = pd.read_csv('movie.csv')\n",
    "df=df.reset_index().rename(columns={'index':'Id'})"
   ]
  },
  {
   "cell_type": "code",
   "execution_count": 48,
   "metadata": {},
   "outputs": [
    {
     "data": {
      "text/html": [
       "<div>\n",
       "<style scoped>\n",
       "    .dataframe tbody tr th:only-of-type {\n",
       "        vertical-align: middle;\n",
       "    }\n",
       "\n",
       "    .dataframe tbody tr th {\n",
       "        vertical-align: top;\n",
       "    }\n",
       "\n",
       "    .dataframe thead th {\n",
       "        text-align: right;\n",
       "    }\n",
       "</style>\n",
       "<table border=\"1\" class=\"dataframe\">\n",
       "  <thead>\n",
       "    <tr style=\"text-align: right;\">\n",
       "      <th></th>\n",
       "      <th>Id</th>\n",
       "      <th>text</th>\n",
       "      <th>label</th>\n",
       "    </tr>\n",
       "  </thead>\n",
       "  <tbody>\n",
       "    <tr>\n",
       "      <th>0</th>\n",
       "      <td>0</td>\n",
       "      <td>I grew up (b. 1965) watching and loving the Th...</td>\n",
       "      <td>0</td>\n",
       "    </tr>\n",
       "    <tr>\n",
       "      <th>1</th>\n",
       "      <td>1</td>\n",
       "      <td>When I put this movie in my DVD player, and sa...</td>\n",
       "      <td>0</td>\n",
       "    </tr>\n",
       "    <tr>\n",
       "      <th>2</th>\n",
       "      <td>2</td>\n",
       "      <td>Why do people who do not know what a particula...</td>\n",
       "      <td>0</td>\n",
       "    </tr>\n",
       "    <tr>\n",
       "      <th>3</th>\n",
       "      <td>3</td>\n",
       "      <td>Even though I have great interest in Biblical ...</td>\n",
       "      <td>0</td>\n",
       "    </tr>\n",
       "    <tr>\n",
       "      <th>4</th>\n",
       "      <td>4</td>\n",
       "      <td>Im a die hard Dads Army fan and nothing will e...</td>\n",
       "      <td>1</td>\n",
       "    </tr>\n",
       "    <tr>\n",
       "      <th>5</th>\n",
       "      <td>5</td>\n",
       "      <td>A terrible movie as everyone has said. What ma...</td>\n",
       "      <td>0</td>\n",
       "    </tr>\n",
       "    <tr>\n",
       "      <th>6</th>\n",
       "      <td>6</td>\n",
       "      <td>Finally watched this shocking movie last night...</td>\n",
       "      <td>1</td>\n",
       "    </tr>\n",
       "    <tr>\n",
       "      <th>7</th>\n",
       "      <td>7</td>\n",
       "      <td>I caught this film on AZN on cable. It sounded...</td>\n",
       "      <td>0</td>\n",
       "    </tr>\n",
       "    <tr>\n",
       "      <th>8</th>\n",
       "      <td>8</td>\n",
       "      <td>It may be the remake of 1987 Autumn's Tale aft...</td>\n",
       "      <td>1</td>\n",
       "    </tr>\n",
       "    <tr>\n",
       "      <th>9</th>\n",
       "      <td>9</td>\n",
       "      <td>My Super Ex Girlfriend turned out to be a plea...</td>\n",
       "      <td>1</td>\n",
       "    </tr>\n",
       "  </tbody>\n",
       "</table>\n",
       "</div>"
      ],
      "text/plain": [
       "   Id                                               text  label\n",
       "0   0  I grew up (b. 1965) watching and loving the Th...      0\n",
       "1   1  When I put this movie in my DVD player, and sa...      0\n",
       "2   2  Why do people who do not know what a particula...      0\n",
       "3   3  Even though I have great interest in Biblical ...      0\n",
       "4   4  Im a die hard Dads Army fan and nothing will e...      1\n",
       "5   5  A terrible movie as everyone has said. What ma...      0\n",
       "6   6  Finally watched this shocking movie last night...      1\n",
       "7   7  I caught this film on AZN on cable. It sounded...      0\n",
       "8   8  It may be the remake of 1987 Autumn's Tale aft...      1\n",
       "9   9  My Super Ex Girlfriend turned out to be a plea...      1"
      ]
     },
     "execution_count": 48,
     "metadata": {},
     "output_type": "execute_result"
    }
   ],
   "source": [
    "df.head(10)"
   ]
  },
  {
   "cell_type": "code",
   "execution_count": 13,
   "metadata": {},
   "outputs": [
    {
     "data": {
      "text/plain": [
       "'I grew up (b. 1965) watching and loving the Thunderbirds. All my mates at school watched. We played \"Thunderbirds\" before school, during lunch and after school. We all wanted to be Virgil or Scott. No one wanted to be Alan. Counting down from 5 became an art form. I took my children to see the movie hoping they would get a glimpse of what I loved as a child. How bitterly disappointing. The only high point was the snappy theme tune. Not that it could compare with the original score of the Thunderbirds. Thankfully early Saturday mornings one television channel still plays reruns of the series Gerry Anderson and his wife created. Jonatha Frakes should hand in his directors chair, his version was completely hopeless. A waste of film. Utter rubbish. A CGI remake may be acceptable but replacing marionettes with Homo sapiens subsp. sapiens was a huge error of judgment.'"
      ]
     },
     "execution_count": 13,
     "metadata": {},
     "output_type": "execute_result"
    }
   ],
   "source": [
    "df['text'][0]"
   ]
  },
  {
   "cell_type": "code",
   "execution_count": 14,
   "metadata": {},
   "outputs": [
    {
     "data": {
      "text/plain": [
       "<Axes: title={'center': 'Count of reviews by positive or negative'}, xlabel='label'>"
      ]
     },
     "execution_count": 14,
     "metadata": {},
     "output_type": "execute_result"
    },
    {
     "data": {
      "image/png": "[encoded data removed]",
      "text/plain": [
       "<Figure size 1000x500 with 1 Axes>"
      ]
     },
     "metadata": {},
     "output_type": "display_data"
    }
   ],
   "source": [
    "df['label'].value_counts().plot(kind='bar',title='Count of reviews by positive or negative',figsize=(10,5))"
   ]
  },
  {
   "cell_type": "code",
   "execution_count": 15,
   "metadata": {},
   "outputs": [],
   "source": [
    "# Grab an example \n",
    "\n",
    "example=df['text'].values[500]"
   ]
  },
  {
   "cell_type": "code",
   "execution_count": 17,
   "metadata": {},
   "outputs": [],
   "source": [
    "tokens=nltk.word_tokenize(example)"
   ]
  },
  {
   "cell_type": "code",
   "execution_count": 22,
   "metadata": {},
   "outputs": [],
   "source": [
    "# Part taggs of speech for each word\n",
    "tagged=nltk.pos_tag(tokens)"
   ]
  },
  {
   "cell_type": "code",
   "execution_count": 29,
   "metadata": {},
   "outputs": [
    {
     "name": "stdout",
     "output_type": "stream",
     "text": [
      "(S\n",
      "  Just/RB\n",
      "  because/IN\n",
      "  an/DT\n",
      "  event/NN\n",
      "  really/RB\n",
      "  happened/VBD\n",
      "  does/VBZ\n",
      "  n't/RB\n",
      "  mean/VB\n",
      "  that/IN\n",
      "  it/PRP\n",
      "  will/MD\n",
      "  make/VB\n",
      "  a/DT\n",
      "  good/JJ\n",
      "  screenplay//NN\n",
      "  movie/NN\n",
      "  ./.\n",
      "  The/DT\n",
      "  (ORGANIZATION Cat/NNP)\n",
      "  's/POS\n",
      "  (PERSON Meow/NNP)\n",
      "  ,/,\n",
      "  by/IN\n",
      "  (PERSON Peter/NNP Bogdanovich/NNP)\n",
      "  claims/VBZ\n",
      "  to/TO\n",
      "  be/VB\n",
      "  based/VBN\n",
      "  on/IN\n",
      "  actual/JJ\n",
      "  events/NNS\n",
      "  which/WDT\n",
      "  happened/VBD\n",
      "  on/IN\n",
      "  a/DT\n",
      "  cruise/NN\n",
      "  hosted/VBN\n",
      "  by/IN\n",
      "  (PERSON William/NNP Randolph/NNP Hurst/NNP)\n",
      "  ./.\n",
      "  The/DT\n",
      "  writer/NN\n",
      "  paid/VBD\n",
      "  more/JJR\n",
      "  attention/NN\n",
      "  to/TO\n",
      "  creating/VBG\n",
      "  a/DT\n",
      "  bizarre/JJ\n",
      "  cast/NN\n",
      "  of/IN\n",
      "  characters/NNS\n",
      "  than/IN\n",
      "  taking/VBG\n",
      "  time/NN\n",
      "  to/TO\n",
      "  create/VB\n",
      "  a/DT\n",
      "  story/NN\n",
      "  for/IN\n",
      "  the/DT\n",
      "  bizarre/JJ\n",
      "  characters/NNS\n",
      "  to/TO\n",
      "  inhabit/VB\n",
      "  ./.\n",
      "  The/DT\n",
      "  key/JJ\n",
      "  moments/NNS\n",
      "  of/IN\n",
      "  the/DT\n",
      "  story/NN\n",
      "  seem/VBP\n",
      "  implausible/JJ\n",
      "  ;/:\n",
      "  for/IN\n",
      "  example/NN\n",
      "  ,/,\n",
      "  when/WRB\n",
      "  (PERSON Hurst/NNP)\n",
      "  accidentally/RB\n",
      "  shoots/VBZ\n",
      "  the/DT\n",
      "  producer/NN\n",
      "  ,/,\n",
      "  believing/VBG\n",
      "  him/PRP\n",
      "  to/TO\n",
      "  be/VB\n",
      "  (PERSON Chaplin/NNP)\n",
      "  ./.\n",
      "  Basing/VBG\n",
      "  a/DT\n",
      "  key/JJ\n",
      "  element/NN\n",
      "  of/IN\n",
      "  a/DT\n",
      "  story/NN\n",
      "  on/IN\n",
      "  someone/NN\n",
      "  wearing/VBG\n",
      "  the/DT\n",
      "  wrong/JJ\n",
      "  hat/NN\n",
      "  is/VBZ\n",
      "  trite/JJ\n",
      "  and/CC\n",
      "  contrived/VBN\n",
      "  ./.\n",
      "  The/DT\n",
      "  story/NN\n",
      "  attempts/NNS\n",
      "  to/TO\n",
      "  be/VB\n",
      "  a/DT\n",
      "  dark/JJ\n",
      "  comedy/NN\n",
      "  ,/,\n",
      "  but/CC\n",
      "  The/DT\n",
      "  (ORGANIZATION Cat/NNP)\n",
      "  's/POS\n",
      "  (ORGANIZATION Meow/NNP)\n",
      "  misses/VBZ\n",
      "  an/DT\n",
      "  important/JJ\n",
      "  piece/NN\n",
      "  of/IN\n",
      "  this/DT\n",
      "  equation/NN\n",
      "  ,/,\n",
      "  comedy/NN\n",
      "  ./.\n",
      "  There/EX\n",
      "  is/VBZ\n",
      "  also/RB\n",
      "  a/DT\n",
      "  lack/NN\n",
      "  of/IN\n",
      "  empathy/NN\n",
      "  for/IN\n",
      "  any/DT\n",
      "  of/IN\n",
      "  the/DT\n",
      "  characters/NNS\n",
      "  ./.\n",
      "  It/PRP\n",
      "  hardly/RB\n",
      "  matters/NNS\n",
      "  who/WP\n",
      "  is/VBZ\n",
      "  shot/VBN\n",
      "  ,/,\n",
      "  who/WP\n",
      "  is/VBZ\n",
      "  killed/VBN\n",
      "  ,/,\n",
      "  who/WP\n",
      "  is/VBZ\n",
      "  guilty/JJ\n",
      "  and/CC\n",
      "  who/WP\n",
      "  is/VBZ\n",
      "  innocent/JJ\n",
      "  ./.\n",
      "  There/EX\n",
      "  is/VBZ\n",
      "  not/RB\n",
      "  a/DT\n",
      "  strong/JJ\n",
      "  character/NN\n",
      "  to/TO\n",
      "  cheer/VB\n",
      "  for/IN\n",
      "  ./.\n",
      "  As/IN\n",
      "  a/DT\n",
      "  result/NN\n",
      "  the/DT\n",
      "  conflicts/NNS\n",
      "  are/VBP\n",
      "  difficult/JJ\n",
      "  to/TO\n",
      "  care/VB\n",
      "  about/IN\n",
      "  and/CC\n",
      "  the/DT\n",
      "  eventual/JJ\n",
      "  outcome/NN\n",
      "  is/VBZ\n",
      "  incidental/JJ\n",
      "  ./.)\n"
     ]
    }
   ],
   "source": [
    "entities=nltk.chunk.ne_chunk(tagged)\n",
    "entities.pprint()"
   ]
  },
  {
   "cell_type": "markdown",
   "metadata": {},
   "source": [
    "Label column is a binary classification of the sentiment 0 for negative 1 for positive."
   ]
  },
  {
   "cell_type": "markdown",
   "metadata": {},
   "source": [
    "# Traditional NLP VADER\n",
    "- Valence Aware Dictionary and sEntiment Reasoner - Bag of words\n",
    "- This approach does not identify relation between words and its significance"
   ]
  },
  {
   "cell_type": "code",
   "execution_count": 32,
   "metadata": {},
   "outputs": [
    {
     "name": "stderr",
     "output_type": "stream",
     "text": [
      "[nltk_data] Downloading package vader_lexicon to\n",
      "[nltk_data]     C:\\Users\\tmara\\AppData\\Roaming\\nltk_data...\n"
     ]
    }
   ],
   "source": [
    "from nltk.sentiment import SentimentIntensityAnalyzer\n",
    "from tqdm.notebook import tqdm\n",
    "nltk.download('vader_lexicon')\n",
    "sia=SentimentIntensityAnalyzer()"
   ]
  },
  {
   "cell_type": "code",
   "execution_count": 34,
   "metadata": {},
   "outputs": [
    {
     "data": {
      "text/plain": [
       "{'neg': 0.0, 'neu': 0.318, 'pos': 0.682, 'compound': 0.6468}"
      ]
     },
     "execution_count": 34,
     "metadata": {},
     "output_type": "execute_result"
    }
   ],
   "source": [
    "sia.polarity_scores(\"I'm so happy!\")"
   ]
  },
  {
   "cell_type": "code",
   "execution_count": 35,
   "metadata": {},
   "outputs": [
    {
     "data": {
      "text/plain": [
       "{'neg': 0.468, 'neu': 0.532, 'pos': 0.0, 'compound': -0.6588}"
      ]
     },
     "execution_count": 35,
     "metadata": {},
     "output_type": "execute_result"
    }
   ],
   "source": [
    "sia.polarity_scores('This is the worst thing ever!')"
   ]
  },
  {
   "cell_type": "code",
   "execution_count": 37,
   "metadata": {},
   "outputs": [
    {
     "data": {
      "text/plain": [
       "{'neg': 0.174, 'neu': 0.706, 'pos': 0.12, 'compound': -0.8723}"
      ]
     },
     "execution_count": 37,
     "metadata": {},
     "output_type": "execute_result"
    }
   ],
   "source": [
    "sia.polarity_scores(example)"
   ]
  },
  {
   "cell_type": "code",
   "execution_count": 38,
   "metadata": {},
   "outputs": [
    {
     "data": {
      "application/vnd.jupyter.widget-view+json": {
       "model_id": "c7aad90b20e8441ea89c89774f4807cc",
       "version_major": 2,
       "version_minor": 0
      },
      "text/plain": [
       "  0%|          | 0/40000 [00:00<?, ?it/s]"
      ]
     },
     "metadata": {},
     "output_type": "display_data"
    }
   ],
   "source": [
    "res={}\n",
    "id=0\n",
    "for i,row in tqdm(df.iterrows(),total=len(df)):\n",
    "    text=row['text']\n",
    "    myid=id\n",
    "    res[myid]=sia.polarity_scores(text)\n",
    "    id+=1"
   ]
  },
  {
   "cell_type": "code",
   "execution_count": 49,
   "metadata": {},
   "outputs": [
    {
     "data": {
      "text/html": [
       "<div>\n",
       "<style scoped>\n",
       "    .dataframe tbody tr th:only-of-type {\n",
       "        vertical-align: middle;\n",
       "    }\n",
       "\n",
       "    .dataframe tbody tr th {\n",
       "        vertical-align: top;\n",
       "    }\n",
       "\n",
       "    .dataframe thead th {\n",
       "        text-align: right;\n",
       "    }\n",
       "</style>\n",
       "<table border=\"1\" class=\"dataframe\">\n",
       "  <thead>\n",
       "    <tr style=\"text-align: right;\">\n",
       "      <th></th>\n",
       "      <th>Id</th>\n",
       "      <th>neg</th>\n",
       "      <th>neu</th>\n",
       "      <th>pos</th>\n",
       "      <th>compound</th>\n",
       "    </tr>\n",
       "  </thead>\n",
       "  <tbody>\n",
       "    <tr>\n",
       "      <th>0</th>\n",
       "      <td>0</td>\n",
       "      <td>0.084</td>\n",
       "      <td>0.780</td>\n",
       "      <td>0.136</td>\n",
       "      <td>0.6502</td>\n",
       "    </tr>\n",
       "    <tr>\n",
       "      <th>1</th>\n",
       "      <td>1</td>\n",
       "      <td>0.098</td>\n",
       "      <td>0.755</td>\n",
       "      <td>0.147</td>\n",
       "      <td>0.9314</td>\n",
       "    </tr>\n",
       "    <tr>\n",
       "      <th>2</th>\n",
       "      <td>2</td>\n",
       "      <td>0.116</td>\n",
       "      <td>0.848</td>\n",
       "      <td>0.036</td>\n",
       "      <td>-0.9568</td>\n",
       "    </tr>\n",
       "    <tr>\n",
       "      <th>3</th>\n",
       "      <td>3</td>\n",
       "      <td>0.204</td>\n",
       "      <td>0.656</td>\n",
       "      <td>0.140</td>\n",
       "      <td>-0.7515</td>\n",
       "    </tr>\n",
       "    <tr>\n",
       "      <th>4</th>\n",
       "      <td>4</td>\n",
       "      <td>0.066</td>\n",
       "      <td>0.839</td>\n",
       "      <td>0.095</td>\n",
       "      <td>0.7469</td>\n",
       "    </tr>\n",
       "    <tr>\n",
       "      <th>...</th>\n",
       "      <td>...</td>\n",
       "      <td>...</td>\n",
       "      <td>...</td>\n",
       "      <td>...</td>\n",
       "      <td>...</td>\n",
       "    </tr>\n",
       "    <tr>\n",
       "      <th>39995</th>\n",
       "      <td>39995</td>\n",
       "      <td>0.056</td>\n",
       "      <td>0.773</td>\n",
       "      <td>0.171</td>\n",
       "      <td>0.9972</td>\n",
       "    </tr>\n",
       "    <tr>\n",
       "      <th>39996</th>\n",
       "      <td>39996</td>\n",
       "      <td>0.055</td>\n",
       "      <td>0.909</td>\n",
       "      <td>0.036</td>\n",
       "      <td>-0.2500</td>\n",
       "    </tr>\n",
       "    <tr>\n",
       "      <th>39997</th>\n",
       "      <td>39997</td>\n",
       "      <td>0.080</td>\n",
       "      <td>0.807</td>\n",
       "      <td>0.113</td>\n",
       "      <td>0.8047</td>\n",
       "    </tr>\n",
       "    <tr>\n",
       "      <th>39998</th>\n",
       "      <td>39998</td>\n",
       "      <td>0.043</td>\n",
       "      <td>0.753</td>\n",
       "      <td>0.204</td>\n",
       "      <td>0.9823</td>\n",
       "    </tr>\n",
       "    <tr>\n",
       "      <th>39999</th>\n",
       "      <td>39999</td>\n",
       "      <td>0.108</td>\n",
       "      <td>0.695</td>\n",
       "      <td>0.197</td>\n",
       "      <td>0.9516</td>\n",
       "    </tr>\n",
       "  </tbody>\n",
       "</table>\n",
       "<p>40000 rows × 5 columns</p>\n",
       "</div>"
      ],
      "text/plain": [
       "          Id    neg    neu    pos  compound\n",
       "0          0  0.084  0.780  0.136    0.6502\n",
       "1          1  0.098  0.755  0.147    0.9314\n",
       "2          2  0.116  0.848  0.036   -0.9568\n",
       "3          3  0.204  0.656  0.140   -0.7515\n",
       "4          4  0.066  0.839  0.095    0.7469\n",
       "...      ...    ...    ...    ...       ...\n",
       "39995  39995  0.056  0.773  0.171    0.9972\n",
       "39996  39996  0.055  0.909  0.036   -0.2500\n",
       "39997  39997  0.080  0.807  0.113    0.8047\n",
       "39998  39998  0.043  0.753  0.204    0.9823\n",
       "39999  39999  0.108  0.695  0.197    0.9516\n",
       "\n",
       "[40000 rows x 5 columns]"
      ]
     },
     "execution_count": 49,
     "metadata": {},
     "output_type": "execute_result"
    }
   ],
   "source": [
    "vaders=pd.DataFrame(res).T\n",
    "vaders=vaders.reset_index().rename(columns={'index':'Id'})\n",
    "vaders "
   ]
  },
  {
   "cell_type": "code",
   "execution_count": null,
   "metadata": {},
   "outputs": [],
   "source": []
  }
 ],
 "metadata": {
  "kernelspec": {
   "display_name": "base",
   "language": "python",
   "name": "python3"
  },
  "language_info": {
   "codemirror_mode": {
    "name": "ipython",
    "version": 3
   },
   "file_extension": ".py",
   "mimetype": "text/x-python",
   "name": "python",
   "nbconvert_exporter": "python",
   "pygments_lexer": "ipython3",
   "version": "3.11.5"
  }
 },
 "nbformat": 4,
 "nbformat_minor": 2
}
